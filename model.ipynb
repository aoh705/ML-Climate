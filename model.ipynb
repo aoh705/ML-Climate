{
 "cells": [
  {
   "cell_type": "markdown",
   "metadata": {},
   "source": [
    "# Exploring Data from multiple sources"
   ]
  },
  {
   "cell_type": "code",
   "execution_count": 6,
   "metadata": {},
   "outputs": [],
   "source": [
    "import csv\n",
    "import pandas as pd\n",
    "import os"
   ]
  },
  {
   "cell_type": "markdown",
   "metadata": {},
   "source": [
    "### San Bernardino County, CA data points on drought"
   ]
  },
  {
   "cell_type": "code",
   "execution_count": 10,
   "metadata": {},
   "outputs": [
    {
     "name": "stdout",
     "output_type": "stream",
     "text": [
      "/Users/aimeeoh/Desktop/Documents/ColumbiaMS/MLC/ML-Climate\n",
      "       MapDate  FIPS                 County State   None      D0     D1  \\\n",
      "0     20250401  6071  San Bernardino County    CA   0.00  100.00  100.0   \n",
      "1     20250325  6071  San Bernardino County    CA   0.00  100.00  100.0   \n",
      "2     20250318  6071  San Bernardino County    CA   0.00  100.00  100.0   \n",
      "3     20250311  6071  San Bernardino County    CA   0.00  100.00  100.0   \n",
      "4     20250304  6071  San Bernardino County    CA   0.00  100.00  100.0   \n",
      "...        ...   ...                    ...   ...    ...     ...    ...   \n",
      "1313  20000201  6071  San Bernardino County    CA   0.00  100.00    0.0   \n",
      "1314  20000125  6071  San Bernardino County    CA   0.00  100.00    0.0   \n",
      "1315  20000118  6071  San Bernardino County    CA   0.00  100.00    0.0   \n",
      "1316  20000111  6071  San Bernardino County    CA   0.00  100.00    0.0   \n",
      "1317  20000104  6071  San Bernardino County    CA  85.97   14.03    0.0   \n",
      "\n",
      "         D2     D3   D4  ValidStart    ValidEnd  StatisticFormatID  \n",
      "0     56.27  29.78  4.2  2025-04-01  2025-04-07                  1  \n",
      "1     56.27  29.77  4.2  2025-03-25  2025-03-31                  1  \n",
      "2     56.27  29.77  4.2  2025-03-18  2025-03-24                  1  \n",
      "3     56.27  29.89  4.2  2025-03-11  2025-03-17                  1  \n",
      "4     56.27  29.89  4.2  2025-03-04  2025-03-10                  1  \n",
      "...     ...    ...  ...         ...         ...                ...  \n",
      "1313   0.00   0.00  0.0  2000-02-01  2000-02-07                  1  \n",
      "1314   0.00   0.00  0.0  2000-01-25  2000-01-31                  1  \n",
      "1315   0.00   0.00  0.0  2000-01-18  2000-01-24                  1  \n",
      "1316   0.00   0.00  0.0  2000-01-11  2000-01-17                  1  \n",
      "1317   0.00   0.00  0.0  2000-01-04  2000-01-10                  1  \n",
      "\n",
      "[1318 rows x 13 columns]\n"
     ]
    }
   ],
   "source": [
    "path = os.getcwd()\n",
    "print(path)\n",
    "\n",
    "droughtData = pd.read_csv(path + '/src/SB_DroughtConditions.csv')\n",
    "print(droughtData)"
   ]
  },
  {
   "cell_type": "code",
   "execution_count": null,
   "metadata": {},
   "outputs": [],
   "source": []
  }
 ],
 "metadata": {
  "kernelspec": {
   "display_name": "Python 3",
   "language": "python",
   "name": "python3"
  },
  "language_info": {
   "codemirror_mode": {
    "name": "ipython",
    "version": 3
   },
   "file_extension": ".py",
   "mimetype": "text/x-python",
   "name": "python",
   "nbconvert_exporter": "python",
   "pygments_lexer": "ipython3",
   "version": "3.12.3"
  }
 },
 "nbformat": 4,
 "nbformat_minor": 2
}
