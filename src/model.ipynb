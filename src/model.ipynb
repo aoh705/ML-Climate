{
 "cells": [
  {
   "cell_type": "markdown",
   "metadata": {},
   "source": [
    "# Exploring Data from multiple sources"
   ]
  },
  {
   "cell_type": "code",
   "execution_count": 55,
   "metadata": {},
   "outputs": [
    {
     "name": "stdout",
     "output_type": "stream",
     "text": [
      "Collecting rasterio\n",
      "  Downloading rasterio-1.4.3-cp312-cp312-macosx_14_0_arm64.whl.metadata (9.1 kB)\n",
      "Collecting geopandas\n",
      "  Downloading geopandas-1.0.1-py3-none-any.whl.metadata (2.2 kB)\n",
      "Requirement already satisfied: pandas in /Library/Frameworks/Python.framework/Versions/3.12/lib/python3.12/site-packages (2.2.3)\n",
      "Requirement already satisfied: numpy in /Library/Frameworks/Python.framework/Versions/3.12/lib/python3.12/site-packages (2.1.3)\n",
      "Requirement already satisfied: xarray in /Library/Frameworks/Python.framework/Versions/3.12/lib/python3.12/site-packages (2025.3.1)\n",
      "Collecting affine (from rasterio)\n",
      "  Downloading affine-2.4.0-py3-none-any.whl.metadata (4.0 kB)\n",
      "Requirement already satisfied: attrs in /Library/Frameworks/Python.framework/Versions/3.12/lib/python3.12/site-packages (from rasterio) (23.1.0)\n",
      "Requirement already satisfied: certifi in /Library/Frameworks/Python.framework/Versions/3.12/lib/python3.12/site-packages (from rasterio) (2023.11.17)\n",
      "Requirement already satisfied: click>=4.0 in /Library/Frameworks/Python.framework/Versions/3.12/lib/python3.12/site-packages (from rasterio) (8.1.7)\n",
      "Collecting cligj>=0.5 (from rasterio)\n",
      "  Downloading cligj-0.7.2-py3-none-any.whl.metadata (5.0 kB)\n",
      "Collecting click-plugins (from rasterio)\n",
      "  Downloading click_plugins-1.1.1-py2.py3-none-any.whl.metadata (6.4 kB)\n",
      "Requirement already satisfied: pyparsing in /Library/Frameworks/Python.framework/Versions/3.12/lib/python3.12/site-packages (from rasterio) (3.1.1)\n",
      "Collecting pyogrio>=0.7.2 (from geopandas)\n",
      "  Downloading pyogrio-0.10.0-cp312-cp312-macosx_12_0_arm64.whl.metadata (5.5 kB)\n",
      "Requirement already satisfied: packaging in /Users/aimeeoh/Library/Python/3.12/lib/python/site-packages (from geopandas) (24.0)\n",
      "Collecting pyproj>=3.3.0 (from geopandas)\n",
      "  Using cached pyproj-3.7.1-cp312-cp312-macosx_14_0_arm64.whl.metadata (31 kB)\n",
      "Collecting shapely>=2.0.0 (from geopandas)\n",
      "  Using cached shapely-2.1.0-cp312-cp312-macosx_11_0_arm64.whl.metadata (6.8 kB)\n",
      "Requirement already satisfied: python-dateutil>=2.8.2 in /Users/aimeeoh/Library/Python/3.12/lib/python/site-packages (from pandas) (2.9.0.post0)\n",
      "Requirement already satisfied: pytz>=2020.1 in /Library/Frameworks/Python.framework/Versions/3.12/lib/python3.12/site-packages (from pandas) (2025.2)\n",
      "Requirement already satisfied: tzdata>=2022.7 in /Library/Frameworks/Python.framework/Versions/3.12/lib/python3.12/site-packages (from pandas) (2025.2)\n",
      "Requirement already satisfied: six>=1.5 in /Users/aimeeoh/Library/Python/3.12/lib/python/site-packages (from python-dateutil>=2.8.2->pandas) (1.16.0)\n",
      "Downloading rasterio-1.4.3-cp312-cp312-macosx_14_0_arm64.whl (18.7 MB)\n",
      "\u001b[2K   \u001b[90m━━━━━━━━━━━━━━━━━━━━━━━━━━━━━━━━━━━━━━━━\u001b[0m \u001b[32m18.7/18.7 MB\u001b[0m \u001b[31m11.3 MB/s\u001b[0m eta \u001b[36m0:00:00\u001b[0m00:01\u001b[0m00:01\u001b[0m\n",
      "\u001b[?25hDownloading geopandas-1.0.1-py3-none-any.whl (323 kB)\n",
      "Downloading cligj-0.7.2-py3-none-any.whl (7.1 kB)\n",
      "Downloading pyogrio-0.10.0-cp312-cp312-macosx_12_0_arm64.whl (15.1 MB)\n",
      "\u001b[2K   \u001b[90m━━━━━━━━━━━━━━━━━━━━━━━━━━━━━━━━━━━━━━━━\u001b[0m \u001b[32m15.1/15.1 MB\u001b[0m \u001b[31m11.2 MB/s\u001b[0m eta \u001b[36m0:00:00\u001b[0ma \u001b[36m0:00:01\u001b[0m\n",
      "\u001b[?25hUsing cached pyproj-3.7.1-cp312-cp312-macosx_14_0_arm64.whl (4.7 MB)\n",
      "Using cached shapely-2.1.0-cp312-cp312-macosx_11_0_arm64.whl (1.6 MB)\n",
      "Downloading affine-2.4.0-py3-none-any.whl (15 kB)\n",
      "Downloading click_plugins-1.1.1-py2.py3-none-any.whl (7.5 kB)\n",
      "Installing collected packages: shapely, pyproj, pyogrio, cligj, click-plugins, affine, rasterio, geopandas\n",
      "Successfully installed affine-2.4.0 click-plugins-1.1.1 cligj-0.7.2 geopandas-1.0.1 pyogrio-0.10.0 pyproj-3.7.1 rasterio-1.4.3 shapely-2.1.0\n"
     ]
    }
   ],
   "source": [
    "!pip install rasterio geopandas pandas numpy xarray"
   ]
  },
  {
   "cell_type": "code",
   "execution_count": 2,
   "metadata": {},
   "outputs": [],
   "source": [
    "import csv\n",
    "import pandas as pd\n",
    "import os\n",
    "import xarray as xr\n",
    "import numpy as np\n",
    "from sklearn.preprocessing import MinMaxScaler, LabelEncoder\n",
    "from tensorflow.keras.models import Sequential\n",
    "from tensorflow.keras.layers import LSTM, Dense, Dropout\n",
    "from tensorflow.keras.callbacks import EarlyStopping\n",
    "import matplotlib.pyplot as plt\n",
    "from shapely.geometry import Point\n",
    "import geopandas as gpd\n",
    "import rasterio\n",
    "from datetime import datetime"
   ]
  },
  {
   "cell_type": "markdown",
   "metadata": {},
   "source": [
    "### San Bernardino County, CA data points on drought\n",
    "combined two datasets --> one with observed, monitored drought data and one with replicated, \"predicted\" drought data. Because the monitored drought data only starts from 2000, we decided to take the \"historical\" drought data from 1950 to 1999 and concatenate it with the observed dataset."
   ]
  },
  {
   "cell_type": "code",
   "execution_count": 5,
   "metadata": {},
   "outputs": [
    {
     "name": "stdout",
     "output_type": "stream",
     "text": [
      "         DATE    D0    D1    D2    D3    D4\n",
      "660  19500101  90.1  83.9  57.9  40.8  16.1\n",
      "661  19500201  92.7  89.4  72.4  50.8  13.1\n",
      "662  19500301  95.8  90.4  68.8  48.5   8.3\n",
      "663  19500401  96.1  90.9  70.6  43.6   0.2\n",
      "664  19500501  97.5  90.8  76.8  29.2   0.1\n"
     ]
    }
   ],
   "source": [
    "path = os.getcwd()\n",
    "\n",
    "new_drought_df = pd.read_csv(path + '/data/SB_DroughtConditions.csv')\n",
    "# print(new_drought_df.head())\n",
    "\n",
    "# subset data so that it only includes dates from 2000 - 2024\n",
    "# print(new_drought_df.dtypes)\n",
    "new_drought_df = new_drought_df[new_drought_df['MapDate'] >= 20000101]\n",
    "new_drought_df = new_drought_df[new_drought_df['MapDate'] <= 20241231]\n",
    "# print(new_drought_df.head())\n",
    "\n",
    "historical_drought_df = pd.read_csv(path + '/data/SB_historical_drought.csv')\n",
    "# print(historical_drought_df.head())\n",
    "\n",
    "# extract needed columns about drought\n",
    "historical_drought_df = historical_drought_df[['DATE', 'D0', 'D1', 'D2', 'D3', 'D4']]\n",
    "# print(historical_drought_df.dtypes)\n",
    "# splice date string to only include yyyymmdd\n",
    "historical_drought_df['DATE'] = historical_drought_df['DATE'].str[2:]\n",
    "# subset data so that it only includes dates from 1950 - 1999\n",
    "historical_drought_df = historical_drought_df[historical_drought_df['DATE'] >= \"19500101\"]\n",
    "historical_drought_df = historical_drought_df[historical_drought_df['DATE'] <= \"19991231\"]\n",
    "historical_drought_df.reset_index(drop=True)\n",
    "# print(historical_drought_df.head())\n",
    "\n",
    "# combine datasets\n",
    "new_drought_df.rename(columns={'MapDate': 'DATE'}, inplace=True)\n",
    "new_drought_df = new_drought_df[['DATE', 'D0', 'D1', 'D2', 'D3', 'D4']]\n",
    "# print(new_drought_df.head())\n",
    "\n",
    "# merge datasets\n",
    "drought_df = pd.concat([historical_drought_df, new_drought_df], axis=0)\n",
    "print(drought_df.head())\n",
    "\n",
    "drought_df.to_csv(\"SB_drought_labels.csv\", index=False)"
   ]
  },
  {
   "cell_type": "markdown",
   "metadata": {},
   "source": [
    "### PRISM data preprocessing"
   ]
  },
  {
   "cell_type": "code",
   "execution_count": null,
   "metadata": {},
   "outputs": [],
   "source": [
    "from rasterio.windows import Window\n",
    "\n",
    "def load_prism_data(base_path):\n",
    "    \"\"\"Load PRISM data with robust error handling\"\"\"\n",
    "    data = []\n",
    "    dates = []\n",
    "    \n",
    "    for root, dirs, files in os.walk(base_path):\n",
    "        for dir_name in dirs:\n",
    "            try:\n",
    "                # Skip non-date folders\n",
    "                date = datetime.strptime(dir_name, '%Y%m%d')\n",
    "                dir_path = os.path.join(root, dir_name)\n",
    "                \n",
    "                # Look for .bil files (common PRISM format)\n",
    "                for file in os.listdir(dir_path):\n",
    "                    if file.endswith(\".bil\"):\n",
    "                        file_path = os.path.join(dir_path, file)\n",
    "                        try:\n",
    "                            with rasterio.open(file_path) as src:\n",
    "                                # Read first 1000x1000 pixels to verify data\n",
    "                                array = src.read(1, window=Window(0, 0, 1000, 1000))\n",
    "                                if np.all(array == src.nodata):\n",
    "                                    print(f\"No valid data in {file}\")\n",
    "                                    continue\n",
    "                                data.append(np.nanmean(array))\n",
    "                                dates.append(date.strftime('%Y-%m-%d'))\n",
    "                        except rasterio.errors.RasterioIOError as e:\n",
    "                            print(f\"Error reading {file}: {str(e)}\")\n",
    "                            \n",
    "            except ValueError:\n",
    "                continue\n",
    "                \n",
    "    return pd.DataFrame({'Date': dates, 'PRISM_Value': data})"
   ]
  },
  {
   "cell_type": "code",
   "execution_count": null,
   "metadata": {},
   "outputs": [
    {
     "name": "stdout",
     "output_type": "stream",
     "text": [
      "/Users/aimeeoh/Desktop/Documents/ColumbiaMS/MLC/ML-Climate/water_drought.csv\n",
      "            Date  PRISM_Value\n",
      "0     2019-07-09 -3388.621094\n",
      "1     2023-06-18 -3389.373047\n",
      "2     2021-08-11 -3390.122070\n",
      "3     2022-02-28 -3390.125000\n",
      "4     2022-08-26 -3389.744141\n",
      "...          ...          ...\n",
      "1821  2023-08-09 -3389.605469\n",
      "1822  2019-03-16 -3390.907471\n",
      "1823  2019-09-18 -3389.377441\n",
      "1824  2019-01-24 -3388.126709\n",
      "1825  2020-11-24 -3390.504150\n",
      "\n",
      "[1826 rows x 2 columns]\n",
      "Water Drought Date dtype: datetime64[ns]\n",
      "PRISM Date dtype: datetime64[ns]\n",
      "Merged Data Sample:\n",
      "         Date      D0     D1     D2   D3   D4  Drought_Index  \\\n",
      "0 2019-01-01  100.00  99.84  10.88  0.0  0.0         45.392   \n",
      "1 2019-01-08  100.00  99.84  10.88  0.0  0.0         45.392   \n",
      "2 2019-01-15  100.00  99.84   9.97  0.0  0.0         44.937   \n",
      "3 2019-01-22  100.00  82.69   0.00  0.0  0.0         34.807   \n",
      "4 2019-01-29   99.85   8.20   0.00  0.0  0.0         12.445   \n",
      "\n",
      "   RC1a_Temperature_Change  RC1c_Wildfire_Projections  RC2b_WildfireHazard  \\\n",
      "0                 3.303501                   0.146201              1.57991   \n",
      "1                 3.303501                   0.146201              1.57991   \n",
      "2                 3.303501                   0.146201              1.57991   \n",
      "3                 3.303501                   0.146201              1.57991   \n",
      "4                 3.303501                   0.146201              1.57991   \n",
      "\n",
      "   RC2f_Critically_Overdrafted  RC3a_Well_Susceptibility  \\\n",
      "0                     0.003671                  0.549844   \n",
      "1                     0.003671                  0.549844   \n",
      "2                     0.003671                  0.549844   \n",
      "3                     0.003671                  0.549844   \n",
      "4                     0.003671                  0.549844   \n",
      "\n",
      "   Social_Vulnerability_Index  PRISM_Value  \n",
      "0                   62.623765 -3388.423096  \n",
      "1                   62.623765 -3390.350342  \n",
      "2                   62.623765 -3390.641357  \n",
      "3                   62.623765 -3390.326416  \n",
      "4                   62.623765 -3390.582031  \n"
     ]
    }
   ],
   "source": [
    "# Main execution\n",
    "prism_folder = path + \"/data/prism_unzipped\"\n",
    "water_drought_path = path + \"/data/water_drought.csv\"\n",
    "\n",
    "print(water_drought_path)\n",
    "water_drought = pd.read_csv(water_drought_path)\n",
    "\n",
    "# Load and merge data\n",
    "prism_df = load_prism_data(prism_folder)\n",
    "print(prism_df)\n",
    "\n",
    "# Convert 'Date' in water_drought to datetime\n",
    "water_drought['Date'] = pd.to_datetime(water_drought['Date'], errors='coerce')\n",
    "\n",
    "# Convert 'Date' in prism_df to datetime (if not already done)\n",
    "prism_df['Date'] = pd.to_datetime(prism_df['Date'], errors='coerce')\n",
    "\n",
    "print(\"Water Drought Date dtype:\", water_drought['Date'].dtype)\n",
    "print(\"PRISM Date dtype:\", prism_df['Date'].dtype)\n",
    "\n",
    "final_df = pd.merge(\n",
    "    water_drought.dropna(subset=['Date']),  # Remove invalid dates\n",
    "    prism_df.dropna(subset=['Date']), \n",
    "    on='Date', \n",
    "    how='inner'  # Use 'inner' to ensure overlapping dates\n",
    ")\n",
    "\n",
    "print(\"Merged Data Sample:\\n\", final_df.head())"
   ]
  },
  {
   "cell_type": "code",
   "execution_count": 134,
   "metadata": {},
   "outputs": [],
   "source": [
    "# Convert dates and sort\n",
    "final_df['Date'] = pd.to_datetime(final_df['Date'])\n",
    "final_df.sort_values('Date', inplace=True)\n",
    "\n",
    "# Select features and target\n",
    "features = final_df.drop(columns=['Date', 'D0', 'D1', 'D2', 'D3', 'D4'])\n",
    "target = final_df[['D0', 'D1', 'D2', 'D3', 'D4']]  # Multi-output regression"
   ]
  },
  {
   "cell_type": "code",
   "execution_count": 135,
   "metadata": {},
   "outputs": [
    {
     "name": "stdout",
     "output_type": "stream",
     "text": [
      "Features shape: (261, 10), Target shape: (261, 5)\n"
     ]
    }
   ],
   "source": [
    "# Ensure proper data preparation\n",
    "from sklearn.preprocessing import MinMaxScaler\n",
    "import numpy as np\n",
    "import pandas as pd\n",
    "\n",
    "# Check if required columns exist\n",
    "required_cols = ['Date', 'D0', 'D1', 'D2', 'D3', 'D4']\n",
    "missing_cols = [col for col in required_cols if col not in final_df.columns]\n",
    "if missing_cols:\n",
    "    raise ValueError(f\"Missing columns in final_df: {missing_cols}\")\n",
    "\n",
    "# Add temporal features\n",
    "final_df['day_of_year'] = final_df['Date'].dt.dayofyear\n",
    "final_df['month'] = final_df['Date'].dt.month\n",
    "\n",
    "# Scale features and target\n",
    "feature_scaler = MinMaxScaler()\n",
    "target_scaler = MinMaxScaler()\n",
    "\n",
    "features = final_df.drop(columns=['Date', 'D0', 'D1', 'D2', 'D3', 'D4'])\n",
    "target = final_df[['D0', 'D1', 'D2', 'D3', 'D4']]\n",
    "\n",
    "X_scaled = feature_scaler.fit_transform(features)\n",
    "y_scaled = target_scaler.fit_transform(target)\n",
    "\n",
    "print(f\"Features shape: {X_scaled.shape}, Target shape: {y_scaled.shape}\")"
   ]
  },
  {
   "cell_type": "code",
   "execution_count": 136,
   "metadata": {},
   "outputs": [
    {
     "name": "stdout",
     "output_type": "stream",
     "text": [
      "Sequence shapes - X_seq: (249, 12, 10), y_seq: (249, 5)\n"
     ]
    }
   ],
   "source": [
    "# Create sequences for LSTM\n",
    "def create_sequences(X, y, seq_length):\n",
    "    X_seq, y_seq = [], []\n",
    "    for i in range(len(X) - seq_length):\n",
    "        X_seq.append(X[i:i+seq_length])\n",
    "        y_seq.append(y[i+seq_length])  # Predict next step after sequence\n",
    "    return np.array(X_seq), np.array(y_seq)\n",
    "\n",
    "SEQ_LENGTH = 12  # Lookback period (12 weeks)\n",
    "X_seq, y_seq = create_sequences(X_scaled, y_scaled, SEQ_LENGTH)\n",
    "\n",
    "print(f\"Sequence shapes - X_seq: {X_seq.shape}, y_seq: {y_seq.shape}\")"
   ]
  },
  {
   "cell_type": "code",
   "execution_count": 137,
   "metadata": {},
   "outputs": [
    {
     "name": "stdout",
     "output_type": "stream",
     "text": [
      "Train shapes - X_train: (199, 12, 10), y_train: (199, 5)\n",
      "Test shapes - X_test: (50, 12, 10), y_test: (50, 5)\n"
     ]
    }
   ],
   "source": [
    "# Split sequences into train and test sets\n",
    "split_idx = int(0.8 * len(X_seq))  # 80% train, 20% test\n",
    "X_train, X_test = X_seq[:split_idx], X_seq[split_idx:]\n",
    "y_train, y_test = y_seq[:split_idx], y_seq[split_idx:]\n",
    "\n",
    "print(f\"Train shapes - X_train: {X_train.shape}, y_train: {y_train.shape}\")\n",
    "print(f\"Test shapes - X_test: {X_test.shape}, y_test: {y_test.shape}\")"
   ]
  },
  {
   "cell_type": "code",
   "execution_count": 138,
   "metadata": {},
   "outputs": [
    {
     "name": "stdout",
     "output_type": "stream",
     "text": [
      "Epoch 1/100\n"
     ]
    },
    {
     "name": "stderr",
     "output_type": "stream",
     "text": [
      "/Library/Frameworks/Python.framework/Versions/3.12/lib/python3.12/site-packages/keras/src/layers/rnn/rnn.py:200: UserWarning: Do not pass an `input_shape`/`input_dim` argument to a layer. When using Sequential models, prefer using an `Input(shape)` object as the first layer in the model instead.\n",
      "  super().__init__(**kwargs)\n"
     ]
    },
    {
     "name": "stdout",
     "output_type": "stream",
     "text": [
      "\u001b[1m7/7\u001b[0m \u001b[32m━━━━━━━━━━━━━━━━━━━━\u001b[0m\u001b[37m\u001b[0m \u001b[1m1s\u001b[0m 39ms/step - loss: 0.3861 - mae: 0.4590 - val_loss: 0.1024 - val_mae: 0.2475\n",
      "Epoch 2/100\n",
      "\u001b[1m7/7\u001b[0m \u001b[32m━━━━━━━━━━━━━━━━━━━━\u001b[0m\u001b[37m\u001b[0m \u001b[1m0s\u001b[0m 9ms/step - loss: 0.1850 - mae: 0.3526 - val_loss: 0.1493 - val_mae: 0.3517\n",
      "Epoch 3/100\n",
      "\u001b[1m7/7\u001b[0m \u001b[32m━━━━━━━━━━━━━━━━━━━━\u001b[0m\u001b[37m\u001b[0m \u001b[1m0s\u001b[0m 17ms/step - loss: 0.1117 - mae: 0.2839 - val_loss: 0.1388 - val_mae: 0.3355\n",
      "Epoch 4/100\n",
      "\u001b[1m7/7\u001b[0m \u001b[32m━━━━━━━━━━━━━━━━━━━━\u001b[0m\u001b[37m\u001b[0m \u001b[1m0s\u001b[0m 12ms/step - loss: 0.0787 - mae: 0.2250 - val_loss: 0.0780 - val_mae: 0.2324\n",
      "Epoch 5/100\n",
      "\u001b[1m7/7\u001b[0m \u001b[32m━━━━━━━━━━━━━━━━━━━━\u001b[0m\u001b[37m\u001b[0m \u001b[1m0s\u001b[0m 11ms/step - loss: 0.0592 - mae: 0.1849 - val_loss: 0.0666 - val_mae: 0.2139\n",
      "Epoch 6/100\n",
      "\u001b[1m7/7\u001b[0m \u001b[32m━━━━━━━━━━━━━━━━━━━━\u001b[0m\u001b[37m\u001b[0m \u001b[1m0s\u001b[0m 9ms/step - loss: 0.0595 - mae: 0.1886 - val_loss: 0.0660 - val_mae: 0.2126\n",
      "Epoch 7/100\n",
      "\u001b[1m7/7\u001b[0m \u001b[32m━━━━━━━━━━━━━━━━━━━━\u001b[0m\u001b[37m\u001b[0m \u001b[1m0s\u001b[0m 9ms/step - loss: 0.0459 - mae: 0.1630 - val_loss: 0.0692 - val_mae: 0.2175\n",
      "Epoch 8/100\n",
      "\u001b[1m7/7\u001b[0m \u001b[32m━━━━━━━━━━━━━━━━━━━━\u001b[0m\u001b[37m\u001b[0m \u001b[1m0s\u001b[0m 10ms/step - loss: 0.0495 - mae: 0.1630 - val_loss: 0.0744 - val_mae: 0.2249\n",
      "Epoch 9/100\n",
      "\u001b[1m7/7\u001b[0m \u001b[32m━━━━━━━━━━━━━━━━━━━━\u001b[0m\u001b[37m\u001b[0m \u001b[1m0s\u001b[0m 9ms/step - loss: 0.0460 - mae: 0.1550 - val_loss: 0.0691 - val_mae: 0.2143\n",
      "Epoch 10/100\n",
      "\u001b[1m7/7\u001b[0m \u001b[32m━━━━━━━━━━━━━━━━━━━━\u001b[0m\u001b[37m\u001b[0m \u001b[1m0s\u001b[0m 9ms/step - loss: 0.0404 - mae: 0.1407 - val_loss: 0.0634 - val_mae: 0.2018\n",
      "Epoch 11/100\n",
      "\u001b[1m7/7\u001b[0m \u001b[32m━━━━━━━━━━━━━━━━━━━━\u001b[0m\u001b[37m\u001b[0m \u001b[1m0s\u001b[0m 9ms/step - loss: 0.0393 - mae: 0.1356 - val_loss: 0.0640 - val_mae: 0.2031\n",
      "Epoch 12/100\n",
      "\u001b[1m7/7\u001b[0m \u001b[32m━━━━━━━━━━━━━━━━━━━━\u001b[0m\u001b[37m\u001b[0m \u001b[1m0s\u001b[0m 10ms/step - loss: 0.0396 - mae: 0.1385 - val_loss: 0.0638 - val_mae: 0.2001\n",
      "Epoch 13/100\n",
      "\u001b[1m7/7\u001b[0m \u001b[32m━━━━━━━━━━━━━━━━━━━━\u001b[0m\u001b[37m\u001b[0m \u001b[1m0s\u001b[0m 10ms/step - loss: 0.0362 - mae: 0.1275 - val_loss: 0.0618 - val_mae: 0.1952\n",
      "Epoch 14/100\n",
      "\u001b[1m7/7\u001b[0m \u001b[32m━━━━━━━━━━━━━━━━━━━━\u001b[0m\u001b[37m\u001b[0m \u001b[1m0s\u001b[0m 10ms/step - loss: 0.0357 - mae: 0.1277 - val_loss: 0.0635 - val_mae: 0.1959\n",
      "Epoch 15/100\n",
      "\u001b[1m7/7\u001b[0m \u001b[32m━━━━━━━━━━━━━━━━━━━━\u001b[0m\u001b[37m\u001b[0m \u001b[1m0s\u001b[0m 10ms/step - loss: 0.0382 - mae: 0.1300 - val_loss: 0.0599 - val_mae: 0.1862\n",
      "Epoch 16/100\n",
      "\u001b[1m7/7\u001b[0m \u001b[32m━━━━━━━━━━━━━━━━━━━━\u001b[0m\u001b[37m\u001b[0m \u001b[1m0s\u001b[0m 10ms/step - loss: 0.0343 - mae: 0.1189 - val_loss: 0.0604 - val_mae: 0.1856\n",
      "Epoch 17/100\n",
      "\u001b[1m7/7\u001b[0m \u001b[32m━━━━━━━━━━━━━━━━━━━━\u001b[0m\u001b[37m\u001b[0m \u001b[1m0s\u001b[0m 10ms/step - loss: 0.0316 - mae: 0.1102 - val_loss: 0.0692 - val_mae: 0.1978\n",
      "Epoch 18/100\n",
      "\u001b[1m7/7\u001b[0m \u001b[32m━━━━━━━━━━━━━━━━━━━━\u001b[0m\u001b[37m\u001b[0m \u001b[1m0s\u001b[0m 10ms/step - loss: 0.0355 - mae: 0.1226 - val_loss: 0.0632 - val_mae: 0.1876\n",
      "Epoch 19/100\n",
      "\u001b[1m7/7\u001b[0m \u001b[32m━━━━━━━━━━━━━━━━━━━━\u001b[0m\u001b[37m\u001b[0m \u001b[1m0s\u001b[0m 10ms/step - loss: 0.0319 - mae: 0.1138 - val_loss: 0.0630 - val_mae: 0.1872\n",
      "Epoch 20/100\n",
      "\u001b[1m7/7\u001b[0m \u001b[32m━━━━━━━━━━━━━━━━━━━━\u001b[0m\u001b[37m\u001b[0m \u001b[1m0s\u001b[0m 10ms/step - loss: 0.0309 - mae: 0.1127 - val_loss: 0.0714 - val_mae: 0.2011\n"
     ]
    }
   ],
   "source": [
    "from tensorflow.keras.models import Sequential\n",
    "from tensorflow.keras.layers import LSTM, Dense, Dropout\n",
    "\n",
    "# Define the LSTM model architecture\n",
    "model = Sequential([\n",
    "    LSTM(64, return_sequences=True, input_shape=(SEQ_LENGTH, X_train.shape[2])),\n",
    "    Dropout(0.3),\n",
    "    LSTM(32),\n",
    "    Dense(5)  # Output size matches the number of drought categories (D0-D4)\n",
    "])\n",
    "\n",
    "model.compile(optimizer='adam', loss='mse', metrics=['mae'])\n",
    "\n",
    "# Train the model with early stopping\n",
    "from tensorflow.keras.callbacks import EarlyStopping\n",
    "\n",
    "history = model.fit(\n",
    "    X_train, y_train,\n",
    "    validation_data=(X_test, y_test),\n",
    "    epochs=100,\n",
    "    batch_size=32,\n",
    "    callbacks=[EarlyStopping(patience=5, restore_best_weights=True)]\n",
    ")"
   ]
  },
  {
   "cell_type": "code",
   "execution_count": 139,
   "metadata": {},
   "outputs": [
    {
     "name": "stdout",
     "output_type": "stream",
     "text": [
      "\u001b[1m2/2\u001b[0m \u001b[32m━━━━━━━━━━━━━━━━━━━━\u001b[0m\u001b[37m\u001b[0m \u001b[1m0s\u001b[0m 122ms/step\n",
      "Prediction shape: (50, 5), True labels shape: (50, 5)\n",
      "MAE for D0: 29.9055\n",
      "MAE for D1: 17.4914\n",
      "MAE for D2: 24.7793\n",
      "MAE for D3: 13.5841\n",
      "MAE for D4: 1.2776\n"
     ]
    }
   ],
   "source": [
    "# Make predictions on test data\n",
    "y_pred_scaled = model.predict(X_test)\n",
    "\n",
    "# Inverse transform predictions and true labels to original scale\n",
    "y_pred = target_scaler.inverse_transform(y_pred_scaled)\n",
    "y_test_orig = target_scaler.inverse_transform(y_test)\n",
    "\n",
    "print(f\"Prediction shape: {y_pred.shape}, True labels shape: {y_test_orig.shape}\")\n",
    "\n",
    "# Evaluate using MAE for each drought category (D0-D4)\n",
    "from sklearn.metrics import mean_absolute_error\n",
    "\n",
    "for i, category in enumerate(['D0', 'D1', 'D2', 'D3', 'D4']):\n",
    "    mae = mean_absolute_error(y_test_orig[:, i], y_pred[:, i])\n",
    "    print(f\"MAE for {category}: {mae:.4f}\")\n"
   ]
  },
  {
   "cell_type": "code",
   "execution_count": 140,
   "metadata": {},
   "outputs": [
    {
     "data": {
      "image/png": "[encoded data removed]",
      "text/plain": [
       "<Figure size 1200x600 with 1 Axes>"
      ]
     },
     "metadata": {},
     "output_type": "display_data"
    }
   ],
   "source": [
    "import matplotlib.pyplot as plt\n",
    "\n",
    "# Plot predictions vs true values for D0 category as an example\n",
    "plt.figure(figsize=(12, 6))\n",
    "plt.plot(y_test_orig[:, 0], label='True D0')\n",
    "plt.plot(y_pred[:, 0], label='Predicted D0')\n",
    "plt.title('Predictions vs True Values for D0')\n",
    "plt.xlabel('Time Steps')\n",
    "plt.ylabel('Percentage Area')\n",
    "plt.legend()\n",
    "plt.show()\n"
   ]
  },
  {
   "cell_type": "code",
   "execution_count": 141,
   "metadata": {},
   "outputs": [
    {
     "name": "stdout",
     "output_type": "stream",
     "text": [
      "Random Forest MAE: 0.1039\n"
     ]
    }
   ],
   "source": [
    "from sklearn.ensemble import RandomForestRegressor\n",
    "\n",
    "# Flatten sequences for Random Forest (reshape to 2D)\n",
    "X_train_flat = X_train.reshape(X_train.shape[0], -1)\n",
    "X_test_flat = X_test.reshape(X_test.shape[0], -1)\n",
    "\n",
    "# Train Random Forest Regressor\n",
    "rf_model = RandomForestRegressor(n_estimators=100)\n",
    "rf_model.fit(X_train_flat, y_train)\n",
    "\n",
    "# Predict and evaluate RF model\n",
    "rf_pred = rf_model.predict(X_test_flat)\n",
    "rf_mae = mean_absolute_error(y_test, rf_pred)\n",
    "\n",
    "print(f\"Random Forest MAE: {rf_mae:.4f}\")\n"
   ]
  },
  {
   "cell_type": "code",
   "execution_count": 142,
   "metadata": {},
   "outputs": [
    {
     "name": "stdout",
     "output_type": "stream",
     "text": [
      "Accuracy: 0.9000\n",
      "Confusion Matrix:\n",
      " [[45  5]\n",
      " [ 0  0]]\n"
     ]
    },
    {
     "data": {
      "image/png": "[encoded data removed]",
      "text/plain": [
       "<Figure size 800x600 with 2 Axes>"
      ]
     },
     "metadata": {},
     "output_type": "display_data"
    }
   ],
   "source": [
    "from sklearn.metrics import accuracy_score, confusion_matrix\n",
    "import numpy as np\n",
    "\n",
    "# Convert predictions and true values to categorical labels\n",
    "y_test_labels = np.argmax(y_test, axis=1)\n",
    "y_pred_labels = np.argmax(y_pred, axis=1)\n",
    "\n",
    "# Calculate accuracy\n",
    "accuracy = accuracy_score(y_test_labels, y_pred_labels)\n",
    "print(f\"Accuracy: {accuracy:.4f}\")\n",
    "\n",
    "# Generate confusion matrix\n",
    "conf_matrix = confusion_matrix(y_test_labels, y_pred_labels)\n",
    "print(\"Confusion Matrix:\\n\", conf_matrix)\n",
    "\n",
    "import matplotlib.pyplot as plt\n",
    "import seaborn as sns\n",
    "\n",
    "# Plot confusion matrix\n",
    "plt.figure(figsize=(8, 6))\n",
    "sns.heatmap(conf_matrix, annot=True, fmt='d', cmap='Blues', xticklabels=['D0', 'D1', 'D2'], yticklabels=['D0', 'D1', 'D2'])\n",
    "plt.title('Confusion Matrix')\n",
    "plt.xlabel('Predicted Labels')\n",
    "plt.ylabel('True Labels')\n",
    "plt.show()"
   ]
  },
  {
   "cell_type": "markdown",
   "metadata": {},
   "source": [
    "Accuracy is variable. Goes form 0.74 to 0.9. Should do multiple runs of model? And should make model more robust. Maybe more data.\n",
    "\n",
    "this is more classification --> change to prediction. Given this time period, predict the next week?\n",
    "\n",
    "take weather, precipitation, and  --> datasets that give data on future date's climate\n",
    "\n",
    "Do this after getting data --> causality with DoWhy --> codes up DAG\n",
    "\n",
    "find the years that may have bad droughts/worst drought conditions\n",
    "\n",
    "dew point (single value) if we're measuring one day (random day i.e. Jan 1st, 2066)\n",
    "dew point if we have the previous week --> predict the next week (base off of trend/variability of temp, precip, dew point, humidity)\n",
    "\n",
    "groundwater data for san bernardino\n",
    "\n",
    "extract ppt, dp, etc. from tif file (maybe didn't do in the first run? -- find out)"
   ]
  },
  {
   "cell_type": "markdown",
   "metadata": {},
   "source": [
    "Groundwater data -- combine dates from different well sites to get aggregate groundwater data per unique day."
   ]
  },
  {
   "cell_type": "code",
   "execution_count": 5,
   "metadata": {},
   "outputs": [
    {
     "name": "stderr",
     "output_type": "stream",
     "text": [
      "/var/folders/h6/vygxj7rj5tq9z54ggx6zd6080000gn/T/ipykernel_57915/1205911318.py:2: DtypeWarning: Columns (3) have mixed types. Specify dtype option on import or set low_memory=False.\n",
      "  df = pd.read_csv(\"SB_groundwater.csv\", parse_dates=['datetime'])\n"
     ]
    },
    {
     "name": "stdout",
     "output_type": "stream",
     "text": [
      "    datetime  total_parameter_value agency_cd\n",
      "0 2000-01-01              638157.71      USGS\n",
      "1 2000-01-02              637681.42      USGS\n",
      "2 2000-01-03              634953.66      USGS\n",
      "3 2000-01-04              634403.38      USGS\n",
      "4 2000-01-05              637111.66      USGS\n"
     ]
    }
   ],
   "source": [
    "# Load CSV data\n",
    "df = pd.read_csv(\"SB_groundwater.csv\", parse_dates=['datetime'])\n",
    "\n",
    "# 1. Clean data: Ensure numeric values and filter provisional data (optional)\n",
    "df['parameter_value'] = pd.to_numeric(df['parameter_value'], errors='coerce')\n",
    "# df = df[df['qualification_cd'] == 'A']  # Uncomment to use only approved data\n",
    "\n",
    "# 2. Group by date and sum parameter values\n",
    "daily_totals = df.groupby('datetime', as_index=False).agg({\n",
    "    'parameter_value': 'sum',\n",
    "    'agency_cd': 'first'  # Assumes all rows are USGS\n",
    "})\n",
    "\n",
    "# 3. Rename columns and handle missing data\n",
    "daily_totals = daily_totals.rename(columns={\n",
    "    'parameter_value': 'total_parameter_value'\n",
    "}).fillna(0)\n",
    "\n",
    "# 4. Save consolidated data\n",
    "daily_totals.to_csv(\"daily_groundwater_totals.csv\", index=False)\n",
    "\n",
    "print(daily_totals.head())"
   ]
  },
  {
   "cell_type": "markdown",
   "metadata": {},
   "source": [
    "label droughts by type (flash drought for times when we go from D0 to Dk in a short period of time)"
   ]
  },
  {
   "cell_type": "code",
   "execution_count": null,
   "metadata": {},
   "outputs": [],
   "source": []
  }
 ],
 "metadata": {
  "kernelspec": {
   "display_name": "Python 3",
   "language": "python",
   "name": "python3"
  },
  "language_info": {
   "codemirror_mode": {
    "name": "ipython",
    "version": 3
   },
   "file_extension": ".py",
   "mimetype": "text/x-python",
   "name": "python",
   "nbconvert_exporter": "python",
   "pygments_lexer": "ipython3",
   "version": "3.12.3"
  }
 },
 "nbformat": 4,
 "nbformat_minor": 2
}
