{
 "cells": [
  {
   "cell_type": "markdown",
   "id": "4001f884",
   "metadata": {},
   "source": [
    "# Wet and Cool Climate Model RCP 4.5 training and prediction"
   ]
  },
  {
   "cell_type": "code",
   "execution_count": null,
   "id": "7e7575f0",
   "metadata": {},
   "outputs": [],
   "source": [
    "%run -i 'droughtpredictor.py'"
   ]
  },
  {
   "cell_type": "code",
   "execution_count": null,
   "id": "1af69c79",
   "metadata": {},
   "outputs": [],
   "source": [
    "from droughtpredictor import DroughtPredictor\n",
    "\n",
    "# Initialize the predictor\n",
    "predictor = DroughtPredictor(\n",
    "    min_year=1950,\n",
    "    max_year=2013,\n",
    "    result_dir='results',\n",
    "    data_simul = 'wd45'\n",
    ")\n",
    "\n",
    "# # Option 1: Run the complete pipeline\n",
    "# predictor.run_complete_pipeline(\n",
    "#     historical_file='final_historical.csv',\n",
    "#     future_file='future_all_df_wd_85.csv'\n",
    "# )\n",
    "\n",
    "# Option 2: Run individual steps for more control\n",
    "predictor.load_data('final_historical.csv', 'future_all_df_wc_45.csv')\n",
    "predictor.prepare_features()\n",
    "predictor.select_features()\n",
    "predictor.cross_validate(n_splits=5)\n",
    "predictor.train_final_models()\n",
    "predictor.make_predictions()\n",
    "predictor.create_visualizations()\n",
    "predictor.create_uncertainty_visualization()\n",
    "predictor.generate_report()\n",
    "\n",
    "print(\"Drought prediction completed successfully!\")\n"
   ]
  }
 ],
 "metadata": {
  "kernelspec": {
   "display_name": "Python 3",
   "language": "python",
   "name": "python3"
  },
  "language_info": {
   "name": "python",
   "version": "3.12.3"
  }
 },
 "nbformat": 4,
 "nbformat_minor": 5
}
